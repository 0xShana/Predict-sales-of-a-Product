{
 "cells": [
  {
   "cell_type": "markdown",
   "id": "59ece2f1",
   "metadata": {},
   "source": [
    "# Predict sales of a Product"
   ]
  },
  {
   "cell_type": "markdown",
   "id": "4ee8ab87",
   "metadata": {},
   "source": [
    "##  Develop time series forecasting models to predict sales of a product.."
   ]
  },
  {
   "cell_type": "code",
   "execution_count": 1,
   "id": "5e38e6c1",
   "metadata": {},
   "outputs": [],
   "source": [
    "import pandas as pd"
   ]
  },
  {
   "cell_type": "code",
   "execution_count": 2,
   "id": "d8895e02",
   "metadata": {},
   "outputs": [],
   "source": [
    "df=pd.read_csv(r\"perrin-freres-monthly-champagne-.csv\")"
   ]
  },
  {
   "cell_type": "code",
   "execution_count": 3,
   "id": "76f86c3e",
   "metadata": {},
   "outputs": [
    {
     "data": {
      "text/html": [
       "<div>\n",
       "<style scoped>\n",
       "    .dataframe tbody tr th:only-of-type {\n",
       "        vertical-align: middle;\n",
       "    }\n",
       "\n",
       "    .dataframe tbody tr th {\n",
       "        vertical-align: top;\n",
       "    }\n",
       "\n",
       "    .dataframe thead th {\n",
       "        text-align: right;\n",
       "    }\n",
       "</style>\n",
       "<table border=\"1\" class=\"dataframe\">\n",
       "  <thead>\n",
       "    <tr style=\"text-align: right;\">\n",
       "      <th></th>\n",
       "      <th>Month</th>\n",
       "      <th>Perrin Freres monthly champagne sales millions ?64-?72</th>\n",
       "    </tr>\n",
       "  </thead>\n",
       "  <tbody>\n",
       "    <tr>\n",
       "      <th>0</th>\n",
       "      <td>1964-01</td>\n",
       "      <td>2815.0</td>\n",
       "    </tr>\n",
       "    <tr>\n",
       "      <th>1</th>\n",
       "      <td>1964-02</td>\n",
       "      <td>2672.0</td>\n",
       "    </tr>\n",
       "    <tr>\n",
       "      <th>2</th>\n",
       "      <td>1964-03</td>\n",
       "      <td>2755.0</td>\n",
       "    </tr>\n",
       "    <tr>\n",
       "      <th>3</th>\n",
       "      <td>1964-04</td>\n",
       "      <td>2721.0</td>\n",
       "    </tr>\n",
       "    <tr>\n",
       "      <th>4</th>\n",
       "      <td>1964-05</td>\n",
       "      <td>2946.0</td>\n",
       "    </tr>\n",
       "  </tbody>\n",
       "</table>\n",
       "</div>"
      ],
      "text/plain": [
       "     Month  Perrin Freres monthly champagne sales millions ?64-?72\n",
       "0  1964-01                                             2815.0     \n",
       "1  1964-02                                             2672.0     \n",
       "2  1964-03                                             2755.0     \n",
       "3  1964-04                                             2721.0     \n",
       "4  1964-05                                             2946.0     "
      ]
     },
     "execution_count": 3,
     "metadata": {},
     "output_type": "execute_result"
    }
   ],
   "source": [
    "df.head()"
   ]
  },
  {
   "cell_type": "code",
   "execution_count": 4,
   "id": "5cb74214",
   "metadata": {},
   "outputs": [
    {
     "data": {
      "text/plain": [
       "Index(['Month', 'Perrin Freres monthly champagne sales millions ?64-?72'], dtype='object')"
      ]
     },
     "execution_count": 4,
     "metadata": {},
     "output_type": "execute_result"
    }
   ],
   "source": [
    "df.columns"
   ]
  },
  {
   "cell_type": "code",
   "execution_count": 5,
   "id": "d61c1e9b",
   "metadata": {},
   "outputs": [],
   "source": [
    "df.columns=['Month','Sales']"
   ]
  },
  {
   "cell_type": "code",
   "execution_count": 6,
   "id": "08d1d7d8",
   "metadata": {},
   "outputs": [
    {
     "data": {
      "text/plain": [
       "Index(['Month', 'Sales'], dtype='object')"
      ]
     },
     "execution_count": 6,
     "metadata": {},
     "output_type": "execute_result"
    }
   ],
   "source": [
    "df.columns"
   ]
  },
  {
   "cell_type": "code",
   "execution_count": 7,
   "id": "783e1f64",
   "metadata": {},
   "outputs": [
    {
     "data": {
      "text/html": [
       "<div>\n",
       "<style scoped>\n",
       "    .dataframe tbody tr th:only-of-type {\n",
       "        vertical-align: middle;\n",
       "    }\n",
       "\n",
       "    .dataframe tbody tr th {\n",
       "        vertical-align: top;\n",
       "    }\n",
       "\n",
       "    .dataframe thead th {\n",
       "        text-align: right;\n",
       "    }\n",
       "</style>\n",
       "<table border=\"1\" class=\"dataframe\">\n",
       "  <thead>\n",
       "    <tr style=\"text-align: right;\">\n",
       "      <th></th>\n",
       "      <th>Month</th>\n",
       "      <th>Sales</th>\n",
       "    </tr>\n",
       "  </thead>\n",
       "  <tbody>\n",
       "    <tr>\n",
       "      <th>0</th>\n",
       "      <td>1964-01</td>\n",
       "      <td>2815.0</td>\n",
       "    </tr>\n",
       "    <tr>\n",
       "      <th>1</th>\n",
       "      <td>1964-02</td>\n",
       "      <td>2672.0</td>\n",
       "    </tr>\n",
       "    <tr>\n",
       "      <th>2</th>\n",
       "      <td>1964-03</td>\n",
       "      <td>2755.0</td>\n",
       "    </tr>\n",
       "    <tr>\n",
       "      <th>3</th>\n",
       "      <td>1964-04</td>\n",
       "      <td>2721.0</td>\n",
       "    </tr>\n",
       "    <tr>\n",
       "      <th>4</th>\n",
       "      <td>1964-05</td>\n",
       "      <td>2946.0</td>\n",
       "    </tr>\n",
       "  </tbody>\n",
       "</table>\n",
       "</div>"
      ],
      "text/plain": [
       "     Month   Sales\n",
       "0  1964-01  2815.0\n",
       "1  1964-02  2672.0\n",
       "2  1964-03  2755.0\n",
       "3  1964-04  2721.0\n",
       "4  1964-05  2946.0"
      ]
     },
     "execution_count": 7,
     "metadata": {},
     "output_type": "execute_result"
    }
   ],
   "source": [
    "df.head()"
   ]
  },
  {
   "cell_type": "code",
   "execution_count": 8,
   "id": "3b6c4265",
   "metadata": {},
   "outputs": [
    {
     "data": {
      "text/plain": [
       "Month    1\n",
       "Sales    2\n",
       "dtype: int64"
      ]
     },
     "execution_count": 8,
     "metadata": {},
     "output_type": "execute_result"
    }
   ],
   "source": [
    "df.isnull().sum()"
   ]
  },
  {
   "cell_type": "code",
   "execution_count": 9,
   "id": "3ec6741a",
   "metadata": {},
   "outputs": [],
   "source": [
    "df.dropna(inplace=True)"
   ]
  },
  {
   "cell_type": "code",
   "execution_count": 10,
   "id": "82897d1b",
   "metadata": {},
   "outputs": [
    {
     "data": {
      "text/plain": [
       "Month    0\n",
       "Sales    0\n",
       "dtype: int64"
      ]
     },
     "execution_count": 10,
     "metadata": {},
     "output_type": "execute_result"
    }
   ],
   "source": [
    "df.isnull().sum()"
   ]
  },
  {
   "cell_type": "code",
   "execution_count": 11,
   "id": "a81002fa",
   "metadata": {},
   "outputs": [
    {
     "data": {
      "text/plain": [
       "Month     object\n",
       "Sales    float64\n",
       "dtype: object"
      ]
     },
     "execution_count": 11,
     "metadata": {},
     "output_type": "execute_result"
    }
   ],
   "source": [
    " df.dtypes"
   ]
  },
  {
   "cell_type": "code",
   "execution_count": 12,
   "id": "3c107ada",
   "metadata": {},
   "outputs": [
    {
     "data": {
      "text/plain": [
       "(105, 2)"
      ]
     },
     "execution_count": 12,
     "metadata": {},
     "output_type": "execute_result"
    }
   ],
   "source": [
    "df.shape"
   ]
  },
  {
   "cell_type": "code",
   "execution_count": 13,
   "id": "4fbc64a3",
   "metadata": {},
   "outputs": [
    {
     "data": {
      "text/plain": [
       "Month    datetime64[ns]\n",
       "Sales           float64\n",
       "dtype: object"
      ]
     },
     "execution_count": 13,
     "metadata": {},
     "output_type": "execute_result"
    }
   ],
   "source": [
    "df['Month']=pd.to_datetime(df['Month'])\n",
    "df.dtypes"
   ]
  },
  {
   "cell_type": "code",
   "execution_count": 14,
   "id": "5d3399b2",
   "metadata": {},
   "outputs": [],
   "source": [
    "df.set_index('Month',inplace=True)"
   ]
  },
  {
   "cell_type": "code",
   "execution_count": 15,
   "id": "078ab6d0",
   "metadata": {},
   "outputs": [
    {
     "data": {
      "text/html": [
       "<div>\n",
       "<style scoped>\n",
       "    .dataframe tbody tr th:only-of-type {\n",
       "        vertical-align: middle;\n",
       "    }\n",
       "\n",
       "    .dataframe tbody tr th {\n",
       "        vertical-align: top;\n",
       "    }\n",
       "\n",
       "    .dataframe thead th {\n",
       "        text-align: right;\n",
       "    }\n",
       "</style>\n",
       "<table border=\"1\" class=\"dataframe\">\n",
       "  <thead>\n",
       "    <tr style=\"text-align: right;\">\n",
       "      <th></th>\n",
       "      <th>Sales</th>\n",
       "    </tr>\n",
       "    <tr>\n",
       "      <th>Month</th>\n",
       "      <th></th>\n",
       "    </tr>\n",
       "  </thead>\n",
       "  <tbody>\n",
       "    <tr>\n",
       "      <th>1964-01-01</th>\n",
       "      <td>2815.0</td>\n",
       "    </tr>\n",
       "    <tr>\n",
       "      <th>1964-02-01</th>\n",
       "      <td>2672.0</td>\n",
       "    </tr>\n",
       "    <tr>\n",
       "      <th>1964-03-01</th>\n",
       "      <td>2755.0</td>\n",
       "    </tr>\n",
       "    <tr>\n",
       "      <th>1964-04-01</th>\n",
       "      <td>2721.0</td>\n",
       "    </tr>\n",
       "    <tr>\n",
       "      <th>1964-05-01</th>\n",
       "      <td>2946.0</td>\n",
       "    </tr>\n",
       "  </tbody>\n",
       "</table>\n",
       "</div>"
      ],
      "text/plain": [
       "             Sales\n",
       "Month             \n",
       "1964-01-01  2815.0\n",
       "1964-02-01  2672.0\n",
       "1964-03-01  2755.0\n",
       "1964-04-01  2721.0\n",
       "1964-05-01  2946.0"
      ]
     },
     "execution_count": 15,
     "metadata": {},
     "output_type": "execute_result"
    }
   ],
   "source": [
    "df.head()"
   ]
  },
  {
   "cell_type": "code",
   "execution_count": 16,
   "id": "bb65546f",
   "metadata": {},
   "outputs": [
    {
     "data": {
      "text/html": [
       "<div>\n",
       "<style scoped>\n",
       "    .dataframe tbody tr th:only-of-type {\n",
       "        vertical-align: middle;\n",
       "    }\n",
       "\n",
       "    .dataframe tbody tr th {\n",
       "        vertical-align: top;\n",
       "    }\n",
       "\n",
       "    .dataframe thead th {\n",
       "        text-align: right;\n",
       "    }\n",
       "</style>\n",
       "<table border=\"1\" class=\"dataframe\">\n",
       "  <thead>\n",
       "    <tr style=\"text-align: right;\">\n",
       "      <th></th>\n",
       "      <th>Sales</th>\n",
       "    </tr>\n",
       "  </thead>\n",
       "  <tbody>\n",
       "    <tr>\n",
       "      <th>count</th>\n",
       "      <td>105.000000</td>\n",
       "    </tr>\n",
       "    <tr>\n",
       "      <th>mean</th>\n",
       "      <td>4761.152381</td>\n",
       "    </tr>\n",
       "    <tr>\n",
       "      <th>std</th>\n",
       "      <td>2553.502601</td>\n",
       "    </tr>\n",
       "    <tr>\n",
       "      <th>min</th>\n",
       "      <td>1413.000000</td>\n",
       "    </tr>\n",
       "    <tr>\n",
       "      <th>25%</th>\n",
       "      <td>3113.000000</td>\n",
       "    </tr>\n",
       "    <tr>\n",
       "      <th>50%</th>\n",
       "      <td>4217.000000</td>\n",
       "    </tr>\n",
       "    <tr>\n",
       "      <th>75%</th>\n",
       "      <td>5221.000000</td>\n",
       "    </tr>\n",
       "    <tr>\n",
       "      <th>max</th>\n",
       "      <td>13916.000000</td>\n",
       "    </tr>\n",
       "  </tbody>\n",
       "</table>\n",
       "</div>"
      ],
      "text/plain": [
       "              Sales\n",
       "count    105.000000\n",
       "mean    4761.152381\n",
       "std     2553.502601\n",
       "min     1413.000000\n",
       "25%     3113.000000\n",
       "50%     4217.000000\n",
       "75%     5221.000000\n",
       "max    13916.000000"
      ]
     },
     "execution_count": 16,
     "metadata": {},
     "output_type": "execute_result"
    }
   ],
   "source": [
    "df.describe()"
   ]
  },
  {
   "cell_type": "markdown",
   "id": "007bd55b",
   "metadata": {},
   "source": [
    "## Visualise the sales column"
   ]
  },
  {
   "cell_type": "code",
   "execution_count": 17,
   "id": "8da6c18d",
   "metadata": {},
   "outputs": [
    {
     "data": {
      "text/plain": [
       "<matplotlib.axes._subplots.AxesSubplot at 0x7fc56721edd0>"
      ]
     },
     "execution_count": 17,
     "metadata": {},
     "output_type": "execute_result"
    },
    {
     "data": {
      "image/png": "[encoded data removed]",
      "text/plain": [
       "<Figure size 432x288 with 1 Axes>"
      ]
     },
     "metadata": {
      "needs_background": "light"
     },
     "output_type": "display_data"
    }
   ],
   "source": [
    "df.plot()"
   ]
  },
  {
   "cell_type": "markdown",
   "id": "34bd99e0",
   "metadata": {},
   "source": [
    "## check stationary "
   ]
  },
  {
   "cell_type": "code",
   "execution_count": 18,
   "id": "512ac06c",
   "metadata": {},
   "outputs": [],
   "source": [
    "from statsmodels.tsa.stattools import adfuller\n"
   ]
  },
  {
   "cell_type": "code",
   "execution_count": 19,
   "id": "d688ac25",
   "metadata": {},
   "outputs": [
    {
     "name": "stdout",
     "output_type": "stream",
     "text": [
      "adf : -1.8335930563276237 \n",
      "pvalue : 0.3639157716602447 \n",
      "usedlag : 11 \n",
      "nobs  : 93 \n",
      "0.3639157716602447\n",
      "data is stationary\n"
     ]
    }
   ],
   "source": [
    "def adfuller_test(Sales):\n",
    "    labels=['adf','pvalue','usedlag','nobs ']\n",
    "    result=adfuller(Sales)\n",
    "    for label,value in zip(labels,result):\n",
    "        print(\"{} : {} \".format(label,value))\n",
    "    if result[1]<=.5:\n",
    "        print(result[1])\n",
    "        print(\"data is stationary\")\n",
    "    else:\n",
    "        print(\"data is Not stationary\")\n",
    "adfuller_test(df['Sales'])"
   ]
  },
  {
   "cell_type": "markdown",
   "id": "7b8d7994",
   "metadata": {},
   "source": [
    "## Data differencing"
   ]
  },
  {
   "cell_type": "code",
   "execution_count": 20,
   "id": "c66efd9f",
   "metadata": {},
   "outputs": [],
   "source": [
    "df['sales first difference']=df['Sales']-df['Sales'].shift(1)"
   ]
  },
  {
   "cell_type": "code",
   "execution_count": 21,
   "id": "6398b960",
   "metadata": {},
   "outputs": [],
   "source": [
    "df['seasonal sales first difference']=df['Sales']-df['Sales'].shift(12)"
   ]
  },
  {
   "cell_type": "code",
   "execution_count": 22,
   "id": "c62f9bab",
   "metadata": {},
   "outputs": [
    {
     "data": {
      "text/html": [
       "<div>\n",
       "<style scoped>\n",
       "    .dataframe tbody tr th:only-of-type {\n",
       "        vertical-align: middle;\n",
       "    }\n",
       "\n",
       "    .dataframe tbody tr th {\n",
       "        vertical-align: top;\n",
       "    }\n",
       "\n",
       "    .dataframe thead th {\n",
       "        text-align: right;\n",
       "    }\n",
       "</style>\n",
       "<table border=\"1\" class=\"dataframe\">\n",
       "  <thead>\n",
       "    <tr style=\"text-align: right;\">\n",
       "      <th></th>\n",
       "      <th>Sales</th>\n",
       "      <th>sales first difference</th>\n",
       "      <th>seasonal sales first difference</th>\n",
       "    </tr>\n",
       "    <tr>\n",
       "      <th>Month</th>\n",
       "      <th></th>\n",
       "      <th></th>\n",
       "      <th></th>\n",
       "    </tr>\n",
       "  </thead>\n",
       "  <tbody>\n",
       "    <tr>\n",
       "      <th>1964-01-01</th>\n",
       "      <td>2815.0</td>\n",
       "      <td>NaN</td>\n",
       "      <td>NaN</td>\n",
       "    </tr>\n",
       "    <tr>\n",
       "      <th>1964-02-01</th>\n",
       "      <td>2672.0</td>\n",
       "      <td>-143.0</td>\n",
       "      <td>NaN</td>\n",
       "    </tr>\n",
       "    <tr>\n",
       "      <th>1964-03-01</th>\n",
       "      <td>2755.0</td>\n",
       "      <td>83.0</td>\n",
       "      <td>NaN</td>\n",
       "    </tr>\n",
       "    <tr>\n",
       "      <th>1964-04-01</th>\n",
       "      <td>2721.0</td>\n",
       "      <td>-34.0</td>\n",
       "      <td>NaN</td>\n",
       "    </tr>\n",
       "    <tr>\n",
       "      <th>1964-05-01</th>\n",
       "      <td>2946.0</td>\n",
       "      <td>225.0</td>\n",
       "      <td>NaN</td>\n",
       "    </tr>\n",
       "  </tbody>\n",
       "</table>\n",
       "</div>"
      ],
      "text/plain": [
       "             Sales  sales first difference  seasonal sales first difference\n",
       "Month                                                                      \n",
       "1964-01-01  2815.0                     NaN                              NaN\n",
       "1964-02-01  2672.0                  -143.0                              NaN\n",
       "1964-03-01  2755.0                    83.0                              NaN\n",
       "1964-04-01  2721.0                   -34.0                              NaN\n",
       "1964-05-01  2946.0                   225.0                              NaN"
      ]
     },
     "execution_count": 22,
     "metadata": {},
     "output_type": "execute_result"
    }
   ],
   "source": [
    "df.head()"
   ]
  },
  {
   "cell_type": "code",
   "execution_count": 23,
   "id": "fdc14310",
   "metadata": {},
   "outputs": [
    {
     "name": "stdout",
     "output_type": "stream",
     "text": [
      "adf : -7.626619157213163 \n",
      "pvalue : 2.060579696813685e-11 \n",
      "usedlag : 0 \n",
      "nobs  : 92 \n",
      "2.060579696813685e-11\n",
      "data is stationary\n"
     ]
    }
   ],
   "source": [
    "adfuller_test(df['seasonal sales first difference'].dropna())"
   ]
  },
  {
   "cell_type": "code",
   "execution_count": 28,
   "id": "2632de8f",
   "metadata": {},
   "outputs": [],
   "source": [
    "from statsmodels.graphics.tsaplots import plot_pacf,plot_acf\n",
    "import matplotlib.pyplot as plt"
   ]
  },
  {
   "cell_type": "code",
   "execution_count": 31,
   "id": "eb1d7398",
   "metadata": {},
   "outputs": [
    {
     "data": {
      "image/png": "[encoded data removed]",
      "text/plain": [
       "<Figure size 864x576 with 2 Axes>"
      ]
     },
     "metadata": {
      "needs_background": "light"
     },
     "output_type": "display_data"
    }
   ],
   "source": [
    "fig=plt.figure(figsize=(12,8))\n",
    "ax1=fig.add_subplot(211)\n",
    "fig=plot_acf(df['seasonal sales first difference'].iloc[13:],lags=40,ax=ax1)\n",
    "\n",
    "ax2=fig.add_subplot(212 )\n",
    "fig=plot_pacf(df['seasonal sales first difference'].iloc[13:],lags=40,ax=ax2)"
   ]
  },
  {
   "cell_type": "code",
   "execution_count": 32,
   "id": "fa6337cf",
   "metadata": {},
   "outputs": [],
   "source": [
    "from statsmodels.tsa.arima_model import ARIMA"
   ]
  },
  {
   "cell_type": "code",
   "execution_count": 38,
   "id": "66bd439e",
   "metadata": {},
   "outputs": [
    {
     "name": "stderr",
     "output_type": "stream",
     "text": [
      "/Users/shanajames/Documents/anaconda3/envs/TensorFlow2/lib/python3.7/site-packages/statsmodels/tsa/arima_model.py:472: FutureWarning: \n",
      "statsmodels.tsa.arima_model.ARMA and statsmodels.tsa.arima_model.ARIMA have\n",
      "been deprecated in favor of statsmodels.tsa.arima.model.ARIMA (note the .\n",
      "between arima and model) and\n",
      "statsmodels.tsa.SARIMAX. These will be removed after the 0.12 release.\n",
      "\n",
      "statsmodels.tsa.arima.model.ARIMA makes use of the statespace framework and\n",
      "is both well tested and maintained.\n",
      "\n",
      "To silence this warning and continue using ARMA and ARIMA until they are\n",
      "removed, use:\n",
      "\n",
      "import warnings\n",
      "warnings.filterwarnings('ignore', 'statsmodels.tsa.arima_model.ARMA',\n",
      "                        FutureWarning)\n",
      "warnings.filterwarnings('ignore', 'statsmodels.tsa.arima_model.ARIMA',\n",
      "                        FutureWarning)\n",
      "\n",
      "  warnings.warn(ARIMA_DEPRECATION_WARN, FutureWarning)\n",
      "/Users/shanajames/Documents/anaconda3/envs/TensorFlow2/lib/python3.7/site-packages/statsmodels/tsa/base/tsa_model.py:527: ValueWarning: No frequency information was provided, so inferred frequency MS will be used.\n",
      "  % freq, ValueWarning)\n",
      "/Users/shanajames/Documents/anaconda3/envs/TensorFlow2/lib/python3.7/site-packages/statsmodels/tsa/base/tsa_model.py:527: ValueWarning: No frequency information was provided, so inferred frequency MS will be used.\n",
      "  % freq, ValueWarning)\n",
      "/Users/shanajames/Documents/anaconda3/envs/TensorFlow2/lib/python3.7/site-packages/statsmodels/tsa/arima_model.py:472: FutureWarning: \n",
      "statsmodels.tsa.arima_model.ARMA and statsmodels.tsa.arima_model.ARIMA have\n",
      "been deprecated in favor of statsmodels.tsa.arima.model.ARIMA (note the .\n",
      "between arima and model) and\n",
      "statsmodels.tsa.SARIMAX. These will be removed after the 0.12 release.\n",
      "\n",
      "statsmodels.tsa.arima.model.ARIMA makes use of the statespace framework and\n",
      "is both well tested and maintained.\n",
      "\n",
      "To silence this warning and continue using ARMA and ARIMA until they are\n",
      "removed, use:\n",
      "\n",
      "import warnings\n",
      "warnings.filterwarnings('ignore', 'statsmodels.tsa.arima_model.ARMA',\n",
      "                        FutureWarning)\n",
      "warnings.filterwarnings('ignore', 'statsmodels.tsa.arima_model.ARIMA',\n",
      "                        FutureWarning)\n",
      "\n",
      "  warnings.warn(ARIMA_DEPRECATION_WARN, FutureWarning)\n"
     ]
    }
   ],
   "source": [
    "model=ARIMA(df['Sales'],order=(1,1,1))\n",
    "model=model.fit()"
   ]
  },
  {
   "cell_type": "code",
   "execution_count": 39,
   "id": "78bf4278",
   "metadata": {},
   "outputs": [
    {
     "data": {
      "text/html": [
       "<table class=\"simpletable\">\n",
       "<caption>ARIMA Model Results</caption>\n",
       "<tr>\n",
       "  <th>Dep. Variable:</th>      <td>D.Sales</td>     <th>  No. Observations:  </th>    <td>104</td>  \n",
       "</tr>\n",
       "<tr>\n",
       "  <th>Model:</th>          <td>ARIMA(1, 1, 1)</td>  <th>  Log Likelihood     </th> <td>-951.126</td>\n",
       "</tr>\n",
       "<tr>\n",
       "  <th>Method:</th>             <td>css-mle</td>     <th>  S.D. of innovations</th> <td>2227.262</td>\n",
       "</tr>\n",
       "<tr>\n",
       "  <th>Date:</th>          <td>Thu, 20 May 2021</td> <th>  AIC                </th> <td>1910.251</td>\n",
       "</tr>\n",
       "<tr>\n",
       "  <th>Time:</th>              <td>13:35:06</td>     <th>  BIC                </th> <td>1920.829</td>\n",
       "</tr>\n",
       "<tr>\n",
       "  <th>Sample:</th>           <td>02-01-1964</td>    <th>  HQIC               </th> <td>1914.536</td>\n",
       "</tr>\n",
       "<tr>\n",
       "  <th></th>                 <td>- 09-01-1972</td>   <th>                     </th>     <td> </td>   \n",
       "</tr>\n",
       "</table>\n",
       "<table class=\"simpletable\">\n",
       "<tr>\n",
       "        <td></td>           <th>coef</th>     <th>std err</th>      <th>z</th>      <th>P>|z|</th>  <th>[0.025</th>    <th>0.975]</th>  \n",
       "</tr>\n",
       "<tr>\n",
       "  <th>const</th>         <td>   22.7831</td> <td>   12.405</td> <td>    1.837</td> <td> 0.066</td> <td>   -1.531</td> <td>   47.097</td>\n",
       "</tr>\n",
       "<tr>\n",
       "  <th>ar.L1.D.Sales</th> <td>    0.4343</td> <td>    0.089</td> <td>    4.866</td> <td> 0.000</td> <td>    0.259</td> <td>    0.609</td>\n",
       "</tr>\n",
       "<tr>\n",
       "  <th>ma.L1.D.Sales</th> <td>   -1.0000</td> <td>    0.026</td> <td>  -38.503</td> <td> 0.000</td> <td>   -1.051</td> <td>   -0.949</td>\n",
       "</tr>\n",
       "</table>\n",
       "<table class=\"simpletable\">\n",
       "<caption>Roots</caption>\n",
       "<tr>\n",
       "    <td></td>   <th>            Real</th>  <th>         Imaginary</th> <th>         Modulus</th>  <th>        Frequency</th>\n",
       "</tr>\n",
       "<tr>\n",
       "  <th>AR.1</th> <td>           2.3023</td> <td>          +0.0000j</td> <td>           2.3023</td> <td>           0.0000</td>\n",
       "</tr>\n",
       "<tr>\n",
       "  <th>MA.1</th> <td>           1.0000</td> <td>          +0.0000j</td> <td>           1.0000</td> <td>           0.0000</td>\n",
       "</tr>\n",
       "</table>"
      ],
      "text/plain": [
       "<class 'statsmodels.iolib.summary.Summary'>\n",
       "\"\"\"\n",
       "                             ARIMA Model Results                              \n",
       "==============================================================================\n",
       "Dep. Variable:                D.Sales   No. Observations:                  104\n",
       "Model:                 ARIMA(1, 1, 1)   Log Likelihood                -951.126\n",
       "Method:                       css-mle   S.D. of innovations           2227.262\n",
       "Date:                Thu, 20 May 2021   AIC                           1910.251\n",
       "Time:                        13:35:06   BIC                           1920.829\n",
       "Sample:                    02-01-1964   HQIC                          1914.536\n",
       "                         - 09-01-1972                                         \n",
       "=================================================================================\n",
       "                    coef    std err          z      P>|z|      [0.025      0.975]\n",
       "---------------------------------------------------------------------------------\n",
       "const            22.7831     12.405      1.837      0.066      -1.531      47.097\n",
       "ar.L1.D.Sales     0.4343      0.089      4.866      0.000       0.259       0.609\n",
       "ma.L1.D.Sales    -1.0000      0.026    -38.503      0.000      -1.051      -0.949\n",
       "                                    Roots                                    \n",
       "=============================================================================\n",
       "                  Real          Imaginary           Modulus         Frequency\n",
       "-----------------------------------------------------------------------------\n",
       "AR.1            2.3023           +0.0000j            2.3023            0.0000\n",
       "MA.1            1.0000           +0.0000j            1.0000            0.0000\n",
       "-----------------------------------------------------------------------------\n",
       "\"\"\""
      ]
     },
     "execution_count": 39,
     "metadata": {},
     "output_type": "execute_result"
    }
   ],
   "source": [
    "\n",
    "model.summary()"
   ]
  },
  {
   "cell_type": "code",
   "execution_count": 40,
   "id": "9e6b6c94",
   "metadata": {},
   "outputs": [],
   "source": [
    "df['forecast']=model.predict(start=90,end=103,dynamic=True)"
   ]
  },
  {
   "cell_type": "code",
   "execution_count": 41,
   "id": "09c8d1cd",
   "metadata": {},
   "outputs": [
    {
     "data": {
      "text/html": [
       "<div>\n",
       "<style scoped>\n",
       "    .dataframe tbody tr th:only-of-type {\n",
       "        vertical-align: middle;\n",
       "    }\n",
       "\n",
       "    .dataframe tbody tr th {\n",
       "        vertical-align: top;\n",
       "    }\n",
       "\n",
       "    .dataframe thead th {\n",
       "        text-align: right;\n",
       "    }\n",
       "</style>\n",
       "<table border=\"1\" class=\"dataframe\">\n",
       "  <thead>\n",
       "    <tr style=\"text-align: right;\">\n",
       "      <th></th>\n",
       "      <th>Sales</th>\n",
       "      <th>sales first difference</th>\n",
       "      <th>seasonal sales first difference</th>\n",
       "      <th>forecast</th>\n",
       "    </tr>\n",
       "    <tr>\n",
       "      <th>Month</th>\n",
       "      <th></th>\n",
       "      <th></th>\n",
       "      <th></th>\n",
       "      <th></th>\n",
       "    </tr>\n",
       "  </thead>\n",
       "  <tbody>\n",
       "    <tr>\n",
       "      <th>1971-02-01</th>\n",
       "      <td>3162.0</td>\n",
       "      <td>-772.0</td>\n",
       "      <td>263.0</td>\n",
       "      <td>NaN</td>\n",
       "    </tr>\n",
       "    <tr>\n",
       "      <th>1971-03-01</th>\n",
       "      <td>4286.0</td>\n",
       "      <td>1124.0</td>\n",
       "      <td>916.0</td>\n",
       "      <td>NaN</td>\n",
       "    </tr>\n",
       "    <tr>\n",
       "      <th>1971-04-01</th>\n",
       "      <td>4676.0</td>\n",
       "      <td>390.0</td>\n",
       "      <td>936.0</td>\n",
       "      <td>NaN</td>\n",
       "    </tr>\n",
       "    <tr>\n",
       "      <th>1971-05-01</th>\n",
       "      <td>5010.0</td>\n",
       "      <td>334.0</td>\n",
       "      <td>2083.0</td>\n",
       "      <td>NaN</td>\n",
       "    </tr>\n",
       "    <tr>\n",
       "      <th>1971-06-01</th>\n",
       "      <td>4874.0</td>\n",
       "      <td>-136.0</td>\n",
       "      <td>888.0</td>\n",
       "      <td>NaN</td>\n",
       "    </tr>\n",
       "    <tr>\n",
       "      <th>1971-07-01</th>\n",
       "      <td>4633.0</td>\n",
       "      <td>-241.0</td>\n",
       "      <td>416.0</td>\n",
       "      <td>473.036184</td>\n",
       "    </tr>\n",
       "    <tr>\n",
       "      <th>1971-08-01</th>\n",
       "      <td>1659.0</td>\n",
       "      <td>-2974.0</td>\n",
       "      <td>-79.0</td>\n",
       "      <td>218.348570</td>\n",
       "    </tr>\n",
       "    <tr>\n",
       "      <th>1971-09-01</th>\n",
       "      <td>5951.0</td>\n",
       "      <td>4292.0</td>\n",
       "      <td>730.0</td>\n",
       "      <td>107.726113</td>\n",
       "    </tr>\n",
       "    <tr>\n",
       "      <th>1971-10-01</th>\n",
       "      <td>6981.0</td>\n",
       "      <td>1030.0</td>\n",
       "      <td>557.0</td>\n",
       "      <td>59.677731</td>\n",
       "    </tr>\n",
       "    <tr>\n",
       "      <th>1971-11-01</th>\n",
       "      <td>9851.0</td>\n",
       "      <td>2870.0</td>\n",
       "      <td>9.0</td>\n",
       "      <td>38.808126</td>\n",
       "    </tr>\n",
       "    <tr>\n",
       "      <th>1971-12-01</th>\n",
       "      <td>12670.0</td>\n",
       "      <td>2819.0</td>\n",
       "      <td>-406.0</td>\n",
       "      <td>29.743503</td>\n",
       "    </tr>\n",
       "    <tr>\n",
       "      <th>1972-01-01</th>\n",
       "      <td>4348.0</td>\n",
       "      <td>-8322.0</td>\n",
       "      <td>414.0</td>\n",
       "      <td>25.806324</td>\n",
       "    </tr>\n",
       "    <tr>\n",
       "      <th>1972-02-01</th>\n",
       "      <td>3564.0</td>\n",
       "      <td>-784.0</td>\n",
       "      <td>402.0</td>\n",
       "      <td>24.096227</td>\n",
       "    </tr>\n",
       "    <tr>\n",
       "      <th>1972-03-01</th>\n",
       "      <td>4577.0</td>\n",
       "      <td>1013.0</td>\n",
       "      <td>291.0</td>\n",
       "      <td>23.353454</td>\n",
       "    </tr>\n",
       "    <tr>\n",
       "      <th>1972-04-01</th>\n",
       "      <td>4788.0</td>\n",
       "      <td>211.0</td>\n",
       "      <td>112.0</td>\n",
       "      <td>23.030834</td>\n",
       "    </tr>\n",
       "    <tr>\n",
       "      <th>1972-05-01</th>\n",
       "      <td>4618.0</td>\n",
       "      <td>-170.0</td>\n",
       "      <td>-392.0</td>\n",
       "      <td>22.890705</td>\n",
       "    </tr>\n",
       "    <tr>\n",
       "      <th>1972-06-01</th>\n",
       "      <td>5312.0</td>\n",
       "      <td>694.0</td>\n",
       "      <td>438.0</td>\n",
       "      <td>22.829841</td>\n",
       "    </tr>\n",
       "    <tr>\n",
       "      <th>1972-07-01</th>\n",
       "      <td>4298.0</td>\n",
       "      <td>-1014.0</td>\n",
       "      <td>-335.0</td>\n",
       "      <td>22.803405</td>\n",
       "    </tr>\n",
       "    <tr>\n",
       "      <th>1972-08-01</th>\n",
       "      <td>1413.0</td>\n",
       "      <td>-2885.0</td>\n",
       "      <td>-246.0</td>\n",
       "      <td>22.791923</td>\n",
       "    </tr>\n",
       "    <tr>\n",
       "      <th>1972-09-01</th>\n",
       "      <td>5877.0</td>\n",
       "      <td>4464.0</td>\n",
       "      <td>-74.0</td>\n",
       "      <td>NaN</td>\n",
       "    </tr>\n",
       "  </tbody>\n",
       "</table>\n",
       "</div>"
      ],
      "text/plain": [
       "              Sales  sales first difference  seasonal sales first difference  \\\n",
       "Month                                                                          \n",
       "1971-02-01   3162.0                  -772.0                            263.0   \n",
       "1971-03-01   4286.0                  1124.0                            916.0   \n",
       "1971-04-01   4676.0                   390.0                            936.0   \n",
       "1971-05-01   5010.0                   334.0                           2083.0   \n",
       "1971-06-01   4874.0                  -136.0                            888.0   \n",
       "1971-07-01   4633.0                  -241.0                            416.0   \n",
       "1971-08-01   1659.0                 -2974.0                            -79.0   \n",
       "1971-09-01   5951.0                  4292.0                            730.0   \n",
       "1971-10-01   6981.0                  1030.0                            557.0   \n",
       "1971-11-01   9851.0                  2870.0                              9.0   \n",
       "1971-12-01  12670.0                  2819.0                           -406.0   \n",
       "1972-01-01   4348.0                 -8322.0                            414.0   \n",
       "1972-02-01   3564.0                  -784.0                            402.0   \n",
       "1972-03-01   4577.0                  1013.0                            291.0   \n",
       "1972-04-01   4788.0                   211.0                            112.0   \n",
       "1972-05-01   4618.0                  -170.0                           -392.0   \n",
       "1972-06-01   5312.0                   694.0                            438.0   \n",
       "1972-07-01   4298.0                 -1014.0                           -335.0   \n",
       "1972-08-01   1413.0                 -2885.0                           -246.0   \n",
       "1972-09-01   5877.0                  4464.0                            -74.0   \n",
       "\n",
       "              forecast  \n",
       "Month                   \n",
       "1971-02-01         NaN  \n",
       "1971-03-01         NaN  \n",
       "1971-04-01         NaN  \n",
       "1971-05-01         NaN  \n",
       "1971-06-01         NaN  \n",
       "1971-07-01  473.036184  \n",
       "1971-08-01  218.348570  \n",
       "1971-09-01  107.726113  \n",
       "1971-10-01   59.677731  \n",
       "1971-11-01   38.808126  \n",
       "1971-12-01   29.743503  \n",
       "1972-01-01   25.806324  \n",
       "1972-02-01   24.096227  \n",
       "1972-03-01   23.353454  \n",
       "1972-04-01   23.030834  \n",
       "1972-05-01   22.890705  \n",
       "1972-06-01   22.829841  \n",
       "1972-07-01   22.803405  \n",
       "1972-08-01   22.791923  \n",
       "1972-09-01         NaN  "
      ]
     },
     "execution_count": 41,
     "metadata": {},
     "output_type": "execute_result"
    }
   ],
   "source": [
    "df.tail(20)"
   ]
  },
  {
   "cell_type": "code",
   "execution_count": 42,
   "id": "9906d4a0",
   "metadata": {},
   "outputs": [
    {
     "data": {
      "text/plain": [
       "<matplotlib.axes._subplots.AxesSubplot at 0x7fc56b82fed0>"
      ]
     },
     "execution_count": 42,
     "metadata": {},
     "output_type": "execute_result"
    },
    {
     "data": {
      "image/png": "[encoded data removed]",
      "text/plain": [
       "<Figure size 864x576 with 1 Axes>"
      ]
     },
     "metadata": {
      "needs_background": "light"
     },
     "output_type": "display_data"
    }
   ],
   "source": [
    "df[['Sales','forecast']].plot(figsize=(12,8))"
   ]
  },
  {
   "cell_type": "code",
   "execution_count": 44,
   "id": "178c2d1e",
   "metadata": {},
   "outputs": [],
   "source": [
    "import statsmodels.api as sm"
   ]
  },
  {
   "cell_type": "code",
   "execution_count": 49,
   "id": "9adb1f01",
   "metadata": {},
   "outputs": [
    {
     "name": "stderr",
     "output_type": "stream",
     "text": [
      "/Users/shanajames/Documents/anaconda3/envs/TensorFlow2/lib/python3.7/site-packages/statsmodels/tsa/base/tsa_model.py:527: ValueWarning: No frequency information was provided, so inferred frequency MS will be used.\n",
      "  % freq, ValueWarning)\n",
      "/Users/shanajames/Documents/anaconda3/envs/TensorFlow2/lib/python3.7/site-packages/statsmodels/tsa/base/tsa_model.py:527: ValueWarning: No frequency information was provided, so inferred frequency MS will be used.\n",
      "  % freq, ValueWarning)\n"
     ]
    }
   ],
   "source": [
    "model=sm.tsa.statespace.SARIMAX(df['Sales'],order=(1,1,1),seasonal_order=(1,1,1,12))"
   ]
  },
  {
   "cell_type": "code",
   "execution_count": 50,
   "id": "566abc9c",
   "metadata": {},
   "outputs": [],
   "source": [
    "results=model.fit()"
   ]
  },
  {
   "cell_type": "code",
   "execution_count": 51,
   "id": "202e6f96",
   "metadata": {},
   "outputs": [],
   "source": [
    "df['forecast_SARIMAX']=results.predict(start=90,end=103,dynamic=True)"
   ]
  },
  {
   "cell_type": "code",
   "execution_count": 52,
   "id": "78ca7164",
   "metadata": {},
   "outputs": [
    {
     "data": {
      "text/html": [
       "<div>\n",
       "<style scoped>\n",
       "    .dataframe tbody tr th:only-of-type {\n",
       "        vertical-align: middle;\n",
       "    }\n",
       "\n",
       "    .dataframe tbody tr th {\n",
       "        vertical-align: top;\n",
       "    }\n",
       "\n",
       "    .dataframe thead th {\n",
       "        text-align: right;\n",
       "    }\n",
       "</style>\n",
       "<table border=\"1\" class=\"dataframe\">\n",
       "  <thead>\n",
       "    <tr style=\"text-align: right;\">\n",
       "      <th></th>\n",
       "      <th>Sales</th>\n",
       "      <th>sales first difference</th>\n",
       "      <th>seasonal sales first difference</th>\n",
       "      <th>forecast</th>\n",
       "      <th>forecast_SARIMAX</th>\n",
       "    </tr>\n",
       "    <tr>\n",
       "      <th>Month</th>\n",
       "      <th></th>\n",
       "      <th></th>\n",
       "      <th></th>\n",
       "      <th></th>\n",
       "      <th></th>\n",
       "    </tr>\n",
       "  </thead>\n",
       "  <tbody>\n",
       "    <tr>\n",
       "      <th>1971-02-01</th>\n",
       "      <td>3162.0</td>\n",
       "      <td>-772.0</td>\n",
       "      <td>263.0</td>\n",
       "      <td>NaN</td>\n",
       "      <td>NaN</td>\n",
       "    </tr>\n",
       "    <tr>\n",
       "      <th>1971-03-01</th>\n",
       "      <td>4286.0</td>\n",
       "      <td>1124.0</td>\n",
       "      <td>916.0</td>\n",
       "      <td>NaN</td>\n",
       "      <td>NaN</td>\n",
       "    </tr>\n",
       "    <tr>\n",
       "      <th>1971-04-01</th>\n",
       "      <td>4676.0</td>\n",
       "      <td>390.0</td>\n",
       "      <td>936.0</td>\n",
       "      <td>NaN</td>\n",
       "      <td>NaN</td>\n",
       "    </tr>\n",
       "    <tr>\n",
       "      <th>1971-05-01</th>\n",
       "      <td>5010.0</td>\n",
       "      <td>334.0</td>\n",
       "      <td>2083.0</td>\n",
       "      <td>NaN</td>\n",
       "      <td>NaN</td>\n",
       "    </tr>\n",
       "    <tr>\n",
       "      <th>1971-06-01</th>\n",
       "      <td>4874.0</td>\n",
       "      <td>-136.0</td>\n",
       "      <td>888.0</td>\n",
       "      <td>NaN</td>\n",
       "      <td>NaN</td>\n",
       "    </tr>\n",
       "    <tr>\n",
       "      <th>1971-07-01</th>\n",
       "      <td>4633.0</td>\n",
       "      <td>-241.0</td>\n",
       "      <td>416.0</td>\n",
       "      <td>473.036184</td>\n",
       "      <td>4437.325216</td>\n",
       "    </tr>\n",
       "    <tr>\n",
       "      <th>1971-08-01</th>\n",
       "      <td>1659.0</td>\n",
       "      <td>-2974.0</td>\n",
       "      <td>-79.0</td>\n",
       "      <td>218.348570</td>\n",
       "      <td>2050.747752</td>\n",
       "    </tr>\n",
       "    <tr>\n",
       "      <th>1971-09-01</th>\n",
       "      <td>5951.0</td>\n",
       "      <td>4292.0</td>\n",
       "      <td>730.0</td>\n",
       "      <td>107.726113</td>\n",
       "      <td>5493.376673</td>\n",
       "    </tr>\n",
       "    <tr>\n",
       "      <th>1971-10-01</th>\n",
       "      <td>6981.0</td>\n",
       "      <td>1030.0</td>\n",
       "      <td>557.0</td>\n",
       "      <td>59.677731</td>\n",
       "      <td>6752.038769</td>\n",
       "    </tr>\n",
       "    <tr>\n",
       "      <th>1971-11-01</th>\n",
       "      <td>9851.0</td>\n",
       "      <td>2870.0</td>\n",
       "      <td>9.0</td>\n",
       "      <td>38.808126</td>\n",
       "      <td>10327.297128</td>\n",
       "    </tr>\n",
       "    <tr>\n",
       "      <th>1971-12-01</th>\n",
       "      <td>12670.0</td>\n",
       "      <td>2819.0</td>\n",
       "      <td>-406.0</td>\n",
       "      <td>29.743503</td>\n",
       "      <td>13632.323860</td>\n",
       "    </tr>\n",
       "    <tr>\n",
       "      <th>1972-01-01</th>\n",
       "      <td>4348.0</td>\n",
       "      <td>-8322.0</td>\n",
       "      <td>414.0</td>\n",
       "      <td>25.806324</td>\n",
       "      <td>3832.961619</td>\n",
       "    </tr>\n",
       "    <tr>\n",
       "      <th>1972-02-01</th>\n",
       "      <td>3564.0</td>\n",
       "      <td>-784.0</td>\n",
       "      <td>402.0</td>\n",
       "      <td>24.096227</td>\n",
       "      <td>3313.097120</td>\n",
       "    </tr>\n",
       "    <tr>\n",
       "      <th>1972-03-01</th>\n",
       "      <td>4577.0</td>\n",
       "      <td>1013.0</td>\n",
       "      <td>291.0</td>\n",
       "      <td>23.353454</td>\n",
       "      <td>4285.476299</td>\n",
       "    </tr>\n",
       "    <tr>\n",
       "      <th>1972-04-01</th>\n",
       "      <td>4788.0</td>\n",
       "      <td>211.0</td>\n",
       "      <td>112.0</td>\n",
       "      <td>23.030834</td>\n",
       "      <td>4701.092837</td>\n",
       "    </tr>\n",
       "    <tr>\n",
       "      <th>1972-05-01</th>\n",
       "      <td>4618.0</td>\n",
       "      <td>-170.0</td>\n",
       "      <td>-392.0</td>\n",
       "      <td>22.890705</td>\n",
       "      <td>4717.511361</td>\n",
       "    </tr>\n",
       "    <tr>\n",
       "      <th>1972-06-01</th>\n",
       "      <td>5312.0</td>\n",
       "      <td>694.0</td>\n",
       "      <td>438.0</td>\n",
       "      <td>22.829841</td>\n",
       "      <td>4906.404252</td>\n",
       "    </tr>\n",
       "    <tr>\n",
       "      <th>1972-07-01</th>\n",
       "      <td>4298.0</td>\n",
       "      <td>-1014.0</td>\n",
       "      <td>-335.0</td>\n",
       "      <td>22.803405</td>\n",
       "      <td>4685.436904</td>\n",
       "    </tr>\n",
       "    <tr>\n",
       "      <th>1972-08-01</th>\n",
       "      <td>1413.0</td>\n",
       "      <td>-2885.0</td>\n",
       "      <td>-246.0</td>\n",
       "      <td>22.791923</td>\n",
       "      <td>2232.408718</td>\n",
       "    </tr>\n",
       "    <tr>\n",
       "      <th>1972-09-01</th>\n",
       "      <td>5877.0</td>\n",
       "      <td>4464.0</td>\n",
       "      <td>-74.0</td>\n",
       "      <td>NaN</td>\n",
       "      <td>NaN</td>\n",
       "    </tr>\n",
       "  </tbody>\n",
       "</table>\n",
       "</div>"
      ],
      "text/plain": [
       "              Sales  sales first difference  seasonal sales first difference  \\\n",
       "Month                                                                          \n",
       "1971-02-01   3162.0                  -772.0                            263.0   \n",
       "1971-03-01   4286.0                  1124.0                            916.0   \n",
       "1971-04-01   4676.0                   390.0                            936.0   \n",
       "1971-05-01   5010.0                   334.0                           2083.0   \n",
       "1971-06-01   4874.0                  -136.0                            888.0   \n",
       "1971-07-01   4633.0                  -241.0                            416.0   \n",
       "1971-08-01   1659.0                 -2974.0                            -79.0   \n",
       "1971-09-01   5951.0                  4292.0                            730.0   \n",
       "1971-10-01   6981.0                  1030.0                            557.0   \n",
       "1971-11-01   9851.0                  2870.0                              9.0   \n",
       "1971-12-01  12670.0                  2819.0                           -406.0   \n",
       "1972-01-01   4348.0                 -8322.0                            414.0   \n",
       "1972-02-01   3564.0                  -784.0                            402.0   \n",
       "1972-03-01   4577.0                  1013.0                            291.0   \n",
       "1972-04-01   4788.0                   211.0                            112.0   \n",
       "1972-05-01   4618.0                  -170.0                           -392.0   \n",
       "1972-06-01   5312.0                   694.0                            438.0   \n",
       "1972-07-01   4298.0                 -1014.0                           -335.0   \n",
       "1972-08-01   1413.0                 -2885.0                           -246.0   \n",
       "1972-09-01   5877.0                  4464.0                            -74.0   \n",
       "\n",
       "              forecast  forecast_SARIMAX  \n",
       "Month                                     \n",
       "1971-02-01         NaN               NaN  \n",
       "1971-03-01         NaN               NaN  \n",
       "1971-04-01         NaN               NaN  \n",
       "1971-05-01         NaN               NaN  \n",
       "1971-06-01         NaN               NaN  \n",
       "1971-07-01  473.036184       4437.325216  \n",
       "1971-08-01  218.348570       2050.747752  \n",
       "1971-09-01  107.726113       5493.376673  \n",
       "1971-10-01   59.677731       6752.038769  \n",
       "1971-11-01   38.808126      10327.297128  \n",
       "1971-12-01   29.743503      13632.323860  \n",
       "1972-01-01   25.806324       3832.961619  \n",
       "1972-02-01   24.096227       3313.097120  \n",
       "1972-03-01   23.353454       4285.476299  \n",
       "1972-04-01   23.030834       4701.092837  \n",
       "1972-05-01   22.890705       4717.511361  \n",
       "1972-06-01   22.829841       4906.404252  \n",
       "1972-07-01   22.803405       4685.436904  \n",
       "1972-08-01   22.791923       2232.408718  \n",
       "1972-09-01         NaN               NaN  "
      ]
     },
     "execution_count": 52,
     "metadata": {},
     "output_type": "execute_result"
    }
   ],
   "source": [
    "df.tail(20)"
   ]
  },
  {
   "cell_type": "code",
   "execution_count": 55,
   "id": "ed259be8",
   "metadata": {},
   "outputs": [
    {
     "data": {
      "text/plain": [
       "<matplotlib.axes._subplots.AxesSubplot at 0x7fc56e011850>"
      ]
     },
     "execution_count": 55,
     "metadata": {},
     "output_type": "execute_result"
    },
    {
     "data": {
      "image/png": "[encoded data removed]",
      "text/plain": [
       "<Figure size 1080x720 with 1 Axes>"
      ]
     },
     "metadata": {
      "needs_background": "light"
     },
     "output_type": "display_data"
    }
   ],
   "source": [
    "df[['Sales','forecast_SARIMAX']].plot(figsize=(15,10))"
   ]
  },
  {
   "cell_type": "code",
   "execution_count": 56,
   "id": "dd27ce28",
   "metadata": {},
   "outputs": [],
   "source": [
    "from pandas.tseries.offsets import DateOffset"
   ]
  },
  {
   "cell_type": "code",
   "execution_count": 65,
   "id": "6adea577",
   "metadata": {},
   "outputs": [],
   "source": [
    "future_dates=[df.index[-1] + DateOffset(months=x )for x in range(0,24)]"
   ]
  },
  {
   "cell_type": "code",
   "execution_count": 66,
   "id": "9ec13295",
   "metadata": {},
   "outputs": [],
   "source": [
    "future_dataset=pd.DataFrame(index=future_dates[1:],columns=df.columns)"
   ]
  },
  {
   "cell_type": "code",
   "execution_count": 67,
   "id": "0be2b3ed",
   "metadata": {},
   "outputs": [
    {
     "data": {
      "text/html": [
       "<div>\n",
       "<style scoped>\n",
       "    .dataframe tbody tr th:only-of-type {\n",
       "        vertical-align: middle;\n",
       "    }\n",
       "\n",
       "    .dataframe tbody tr th {\n",
       "        vertical-align: top;\n",
       "    }\n",
       "\n",
       "    .dataframe thead th {\n",
       "        text-align: right;\n",
       "    }\n",
       "</style>\n",
       "<table border=\"1\" class=\"dataframe\">\n",
       "  <thead>\n",
       "    <tr style=\"text-align: right;\">\n",
       "      <th></th>\n",
       "      <th>Sales</th>\n",
       "      <th>sales first difference</th>\n",
       "      <th>seasonal sales first difference</th>\n",
       "      <th>forecast</th>\n",
       "      <th>forecast_SARIMAX</th>\n",
       "    </tr>\n",
       "  </thead>\n",
       "  <tbody>\n",
       "    <tr>\n",
       "      <th>1972-10-01</th>\n",
       "      <td>NaN</td>\n",
       "      <td>NaN</td>\n",
       "      <td>NaN</td>\n",
       "      <td>NaN</td>\n",
       "      <td>NaN</td>\n",
       "    </tr>\n",
       "    <tr>\n",
       "      <th>1972-11-01</th>\n",
       "      <td>NaN</td>\n",
       "      <td>NaN</td>\n",
       "      <td>NaN</td>\n",
       "      <td>NaN</td>\n",
       "      <td>NaN</td>\n",
       "    </tr>\n",
       "    <tr>\n",
       "      <th>1972-12-01</th>\n",
       "      <td>NaN</td>\n",
       "      <td>NaN</td>\n",
       "      <td>NaN</td>\n",
       "      <td>NaN</td>\n",
       "      <td>NaN</td>\n",
       "    </tr>\n",
       "    <tr>\n",
       "      <th>1973-01-01</th>\n",
       "      <td>NaN</td>\n",
       "      <td>NaN</td>\n",
       "      <td>NaN</td>\n",
       "      <td>NaN</td>\n",
       "      <td>NaN</td>\n",
       "    </tr>\n",
       "    <tr>\n",
       "      <th>1973-02-01</th>\n",
       "      <td>NaN</td>\n",
       "      <td>NaN</td>\n",
       "      <td>NaN</td>\n",
       "      <td>NaN</td>\n",
       "      <td>NaN</td>\n",
       "    </tr>\n",
       "    <tr>\n",
       "      <th>1973-03-01</th>\n",
       "      <td>NaN</td>\n",
       "      <td>NaN</td>\n",
       "      <td>NaN</td>\n",
       "      <td>NaN</td>\n",
       "      <td>NaN</td>\n",
       "    </tr>\n",
       "    <tr>\n",
       "      <th>1973-04-01</th>\n",
       "      <td>NaN</td>\n",
       "      <td>NaN</td>\n",
       "      <td>NaN</td>\n",
       "      <td>NaN</td>\n",
       "      <td>NaN</td>\n",
       "    </tr>\n",
       "    <tr>\n",
       "      <th>1973-05-01</th>\n",
       "      <td>NaN</td>\n",
       "      <td>NaN</td>\n",
       "      <td>NaN</td>\n",
       "      <td>NaN</td>\n",
       "      <td>NaN</td>\n",
       "    </tr>\n",
       "    <tr>\n",
       "      <th>1973-06-01</th>\n",
       "      <td>NaN</td>\n",
       "      <td>NaN</td>\n",
       "      <td>NaN</td>\n",
       "      <td>NaN</td>\n",
       "      <td>NaN</td>\n",
       "    </tr>\n",
       "    <tr>\n",
       "      <th>1973-07-01</th>\n",
       "      <td>NaN</td>\n",
       "      <td>NaN</td>\n",
       "      <td>NaN</td>\n",
       "      <td>NaN</td>\n",
       "      <td>NaN</td>\n",
       "    </tr>\n",
       "    <tr>\n",
       "      <th>1973-08-01</th>\n",
       "      <td>NaN</td>\n",
       "      <td>NaN</td>\n",
       "      <td>NaN</td>\n",
       "      <td>NaN</td>\n",
       "      <td>NaN</td>\n",
       "    </tr>\n",
       "    <tr>\n",
       "      <th>1973-09-01</th>\n",
       "      <td>NaN</td>\n",
       "      <td>NaN</td>\n",
       "      <td>NaN</td>\n",
       "      <td>NaN</td>\n",
       "      <td>NaN</td>\n",
       "    </tr>\n",
       "    <tr>\n",
       "      <th>1973-10-01</th>\n",
       "      <td>NaN</td>\n",
       "      <td>NaN</td>\n",
       "      <td>NaN</td>\n",
       "      <td>NaN</td>\n",
       "      <td>NaN</td>\n",
       "    </tr>\n",
       "    <tr>\n",
       "      <th>1973-11-01</th>\n",
       "      <td>NaN</td>\n",
       "      <td>NaN</td>\n",
       "      <td>NaN</td>\n",
       "      <td>NaN</td>\n",
       "      <td>NaN</td>\n",
       "    </tr>\n",
       "    <tr>\n",
       "      <th>1973-12-01</th>\n",
       "      <td>NaN</td>\n",
       "      <td>NaN</td>\n",
       "      <td>NaN</td>\n",
       "      <td>NaN</td>\n",
       "      <td>NaN</td>\n",
       "    </tr>\n",
       "    <tr>\n",
       "      <th>1974-01-01</th>\n",
       "      <td>NaN</td>\n",
       "      <td>NaN</td>\n",
       "      <td>NaN</td>\n",
       "      <td>NaN</td>\n",
       "      <td>NaN</td>\n",
       "    </tr>\n",
       "    <tr>\n",
       "      <th>1974-02-01</th>\n",
       "      <td>NaN</td>\n",
       "      <td>NaN</td>\n",
       "      <td>NaN</td>\n",
       "      <td>NaN</td>\n",
       "      <td>NaN</td>\n",
       "    </tr>\n",
       "    <tr>\n",
       "      <th>1974-03-01</th>\n",
       "      <td>NaN</td>\n",
       "      <td>NaN</td>\n",
       "      <td>NaN</td>\n",
       "      <td>NaN</td>\n",
       "      <td>NaN</td>\n",
       "    </tr>\n",
       "    <tr>\n",
       "      <th>1974-04-01</th>\n",
       "      <td>NaN</td>\n",
       "      <td>NaN</td>\n",
       "      <td>NaN</td>\n",
       "      <td>NaN</td>\n",
       "      <td>NaN</td>\n",
       "    </tr>\n",
       "    <tr>\n",
       "      <th>1974-05-01</th>\n",
       "      <td>NaN</td>\n",
       "      <td>NaN</td>\n",
       "      <td>NaN</td>\n",
       "      <td>NaN</td>\n",
       "      <td>NaN</td>\n",
       "    </tr>\n",
       "    <tr>\n",
       "      <th>1974-06-01</th>\n",
       "      <td>NaN</td>\n",
       "      <td>NaN</td>\n",
       "      <td>NaN</td>\n",
       "      <td>NaN</td>\n",
       "      <td>NaN</td>\n",
       "    </tr>\n",
       "    <tr>\n",
       "      <th>1974-07-01</th>\n",
       "      <td>NaN</td>\n",
       "      <td>NaN</td>\n",
       "      <td>NaN</td>\n",
       "      <td>NaN</td>\n",
       "      <td>NaN</td>\n",
       "    </tr>\n",
       "    <tr>\n",
       "      <th>1974-08-01</th>\n",
       "      <td>NaN</td>\n",
       "      <td>NaN</td>\n",
       "      <td>NaN</td>\n",
       "      <td>NaN</td>\n",
       "      <td>NaN</td>\n",
       "    </tr>\n",
       "  </tbody>\n",
       "</table>\n",
       "</div>"
      ],
      "text/plain": [
       "           Sales sales first difference seasonal sales first difference  \\\n",
       "1972-10-01   NaN                    NaN                             NaN   \n",
       "1972-11-01   NaN                    NaN                             NaN   \n",
       "1972-12-01   NaN                    NaN                             NaN   \n",
       "1973-01-01   NaN                    NaN                             NaN   \n",
       "1973-02-01   NaN                    NaN                             NaN   \n",
       "1973-03-01   NaN                    NaN                             NaN   \n",
       "1973-04-01   NaN                    NaN                             NaN   \n",
       "1973-05-01   NaN                    NaN                             NaN   \n",
       "1973-06-01   NaN                    NaN                             NaN   \n",
       "1973-07-01   NaN                    NaN                             NaN   \n",
       "1973-08-01   NaN                    NaN                             NaN   \n",
       "1973-09-01   NaN                    NaN                             NaN   \n",
       "1973-10-01   NaN                    NaN                             NaN   \n",
       "1973-11-01   NaN                    NaN                             NaN   \n",
       "1973-12-01   NaN                    NaN                             NaN   \n",
       "1974-01-01   NaN                    NaN                             NaN   \n",
       "1974-02-01   NaN                    NaN                             NaN   \n",
       "1974-03-01   NaN                    NaN                             NaN   \n",
       "1974-04-01   NaN                    NaN                             NaN   \n",
       "1974-05-01   NaN                    NaN                             NaN   \n",
       "1974-06-01   NaN                    NaN                             NaN   \n",
       "1974-07-01   NaN                    NaN                             NaN   \n",
       "1974-08-01   NaN                    NaN                             NaN   \n",
       "\n",
       "           forecast forecast_SARIMAX  \n",
       "1972-10-01      NaN              NaN  \n",
       "1972-11-01      NaN              NaN  \n",
       "1972-12-01      NaN              NaN  \n",
       "1973-01-01      NaN              NaN  \n",
       "1973-02-01      NaN              NaN  \n",
       "1973-03-01      NaN              NaN  \n",
       "1973-04-01      NaN              NaN  \n",
       "1973-05-01      NaN              NaN  \n",
       "1973-06-01      NaN              NaN  \n",
       "1973-07-01      NaN              NaN  \n",
       "1973-08-01      NaN              NaN  \n",
       "1973-09-01      NaN              NaN  \n",
       "1973-10-01      NaN              NaN  \n",
       "1973-11-01      NaN              NaN  \n",
       "1973-12-01      NaN              NaN  \n",
       "1974-01-01      NaN              NaN  \n",
       "1974-02-01      NaN              NaN  \n",
       "1974-03-01      NaN              NaN  \n",
       "1974-04-01      NaN              NaN  \n",
       "1974-05-01      NaN              NaN  \n",
       "1974-06-01      NaN              NaN  \n",
       "1974-07-01      NaN              NaN  \n",
       "1974-08-01      NaN              NaN  "
      ]
     },
     "execution_count": 67,
     "metadata": {},
     "output_type": "execute_result"
    }
   ],
   "source": [
    "future_dataset.tail(30)"
   ]
  },
  {
   "cell_type": "code",
   "execution_count": 68,
   "id": "bc358c10",
   "metadata": {},
   "outputs": [],
   "source": [
    "future_df=pd.concat([df,future_dataset])"
   ]
  },
  {
   "cell_type": "code",
   "execution_count": 73,
   "id": "f6ea4aaf",
   "metadata": {},
   "outputs": [
    {
     "data": {
      "text/plain": [
       "(128, 5)"
      ]
     },
     "execution_count": 73,
     "metadata": {},
     "output_type": "execute_result"
    }
   ],
   "source": [
    "future_df.shape"
   ]
  },
  {
   "cell_type": "code",
   "execution_count": 74,
   "id": "fa91bfbd",
   "metadata": {},
   "outputs": [],
   "source": [
    "future_df['forecast_SARIMAX2']=results.predict(start=104,end=124,dynamic=True)"
   ]
  },
  {
   "cell_type": "code",
   "execution_count": 75,
   "id": "f8862175",
   "metadata": {},
   "outputs": [
    {
     "data": {
      "text/html": [
       "<div>\n",
       "<style scoped>\n",
       "    .dataframe tbody tr th:only-of-type {\n",
       "        vertical-align: middle;\n",
       "    }\n",
       "\n",
       "    .dataframe tbody tr th {\n",
       "        vertical-align: top;\n",
       "    }\n",
       "\n",
       "    .dataframe thead th {\n",
       "        text-align: right;\n",
       "    }\n",
       "</style>\n",
       "<table border=\"1\" class=\"dataframe\">\n",
       "  <thead>\n",
       "    <tr style=\"text-align: right;\">\n",
       "      <th></th>\n",
       "      <th>Sales</th>\n",
       "      <th>sales first difference</th>\n",
       "      <th>seasonal sales first difference</th>\n",
       "      <th>forecast</th>\n",
       "      <th>forecast_SARIMAX</th>\n",
       "      <th>forecast_SARIMAX2</th>\n",
       "    </tr>\n",
       "  </thead>\n",
       "  <tbody>\n",
       "    <tr>\n",
       "      <th>1964-01-01</th>\n",
       "      <td>2815.0</td>\n",
       "      <td>NaN</td>\n",
       "      <td>NaN</td>\n",
       "      <td>NaN</td>\n",
       "      <td>NaN</td>\n",
       "      <td>NaN</td>\n",
       "    </tr>\n",
       "    <tr>\n",
       "      <th>1964-02-01</th>\n",
       "      <td>2672.0</td>\n",
       "      <td>-143.0</td>\n",
       "      <td>NaN</td>\n",
       "      <td>NaN</td>\n",
       "      <td>NaN</td>\n",
       "      <td>NaN</td>\n",
       "    </tr>\n",
       "    <tr>\n",
       "      <th>1964-03-01</th>\n",
       "      <td>2755.0</td>\n",
       "      <td>83.0</td>\n",
       "      <td>NaN</td>\n",
       "      <td>NaN</td>\n",
       "      <td>NaN</td>\n",
       "      <td>NaN</td>\n",
       "    </tr>\n",
       "    <tr>\n",
       "      <th>1964-04-01</th>\n",
       "      <td>2721.0</td>\n",
       "      <td>-34.0</td>\n",
       "      <td>NaN</td>\n",
       "      <td>NaN</td>\n",
       "      <td>NaN</td>\n",
       "      <td>NaN</td>\n",
       "    </tr>\n",
       "    <tr>\n",
       "      <th>1964-05-01</th>\n",
       "      <td>2946.0</td>\n",
       "      <td>225.0</td>\n",
       "      <td>NaN</td>\n",
       "      <td>NaN</td>\n",
       "      <td>NaN</td>\n",
       "      <td>NaN</td>\n",
       "    </tr>\n",
       "  </tbody>\n",
       "</table>\n",
       "</div>"
      ],
      "text/plain": [
       "             Sales  sales first difference  seasonal sales first difference  \\\n",
       "1964-01-01  2815.0                     NaN                              NaN   \n",
       "1964-02-01  2672.0                  -143.0                              NaN   \n",
       "1964-03-01  2755.0                    83.0                              NaN   \n",
       "1964-04-01  2721.0                   -34.0                              NaN   \n",
       "1964-05-01  2946.0                   225.0                              NaN   \n",
       "\n",
       "            forecast  forecast_SARIMAX  forecast_SARIMAX2  \n",
       "1964-01-01       NaN               NaN                NaN  \n",
       "1964-02-01       NaN               NaN                NaN  \n",
       "1964-03-01       NaN               NaN                NaN  \n",
       "1964-04-01       NaN               NaN                NaN  \n",
       "1964-05-01       NaN               NaN                NaN  "
      ]
     },
     "execution_count": 75,
     "metadata": {},
     "output_type": "execute_result"
    }
   ],
   "source": [
    "future_df.head()"
   ]
  },
  {
   "cell_type": "code",
   "execution_count": 76,
   "id": "e22029a3",
   "metadata": {},
   "outputs": [
    {
     "data": {
      "text/plain": [
       "<matplotlib.axes._subplots.AxesSubplot at 0x7fc56e062b10>"
      ]
     },
     "execution_count": 76,
     "metadata": {},
     "output_type": "execute_result"
    },
    {
     "data": {
      "image/png": "[encoded data removed]",
      "text/plain": [
       "<Figure size 1080x720 with 1 Axes>"
      ]
     },
     "metadata": {
      "needs_background": "light"
     },
     "output_type": "display_data"
    }
   ],
   "source": [
    "future_df[['Sales','forecast_SARIMAX2']].plot(figsize=(15,10))"
   ]
  },
  {
   "cell_type": "code",
   "execution_count": null,
   "id": "4b3b7470",
   "metadata": {},
   "outputs": [],
   "source": []
  }
 ],
 "metadata": {
  "kernelspec": {
   "display_name": "Python 3",
   "language": "python",
   "name": "python3"
  },
  "language_info": {
   "codemirror_mode": {
    "name": "ipython",
    "version": 3
   },
   "file_extension": ".py",
   "mimetype": "text/x-python",
   "name": "python",
   "nbconvert_exporter": "python",
   "pygments_lexer": "ipython3",
   "version": "3.7.10"
  }
 },
 "nbformat": 4,
 "nbformat_minor": 5
}
